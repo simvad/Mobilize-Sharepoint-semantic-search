{
 "cells": [
  {
   "cell_type": "code",
   "execution_count": 1,
   "metadata": {},
   "outputs": [],
   "source": [
    "import requests\n",
    "from bs4 import BeautifulSoup\n",
    "import os\n",
    "from PyPDF2 import PdfReader"
   ]
  },
  {
   "cell_type": "code",
   "execution_count": 2,
   "metadata": {},
   "outputs": [],
   "source": [
    "if not os.path.exists('storage'):\n",
    "    os.makedirs('storage')"
   ]
  },
  {
   "cell_type": "code",
   "execution_count": 3,
   "metadata": {},
   "outputs": [],
   "source": [
    "url = 'https://mobilize-nordic.com/det-faglige-univers/?c=artikler&s=&v=all#more'\n",
    "response = requests.get(url, timeout=5)\n",
    "content = BeautifulSoup(response.content, \"html.parser\")\n",
    "\n",
    "cards = content.find_all(\"div\", {\"class\": [\"card\", \"imagecard\"]})\n",
    "\n",
    "with open(\"storage/artikler.txt\", \"a\", encoding='utf-8') as f:\n",
    "    for card in cards:\n",
    "        card_link = card.find(\"a\")\n",
    "        if card_link and \"podcast\" not in card_link[\"href\"] and \"nyhedsbrev\" not in card_link[\"href\"]:\n",
    "            link = \"https://mobilize-nordic.com\" + card_link[\"href\"]\n",
    "            response = requests.get(link, timeout=5)\n",
    "            content = BeautifulSoup(response.content, \"html.parser\")\n",
    "            try:\n",
    "                download_div = content.find(\"div\", {\"class\": \"download\"})\n",
    "                if download_div:\n",
    "                    download_link = \"https://mobilize-nordic.com\" + download_div.find(\"a\")[\"href\"]\n",
    "                    response = requests.get(download_link, timeout=5)\n",
    "                    filename = download_link.split(\"/\")[-1]\n",
    "\n",
    "                    if filename.endswith(\".pdf\"):\n",
    "                        pdf_file = open(\"temp.pdf\", 'wb')\n",
    "                        pdf_file.write(response.content)\n",
    "                        pdf_file.close()\n",
    "\n",
    "                        pdf_file = open(\"temp.pdf\", 'rb')\n",
    "                        pdf_reader = PdfReader(pdf_file)\n",
    "                        for page in pdf_reader.pages:\n",
    "                            f.write(page.extract_text())\n",
    "\n",
    "            except Exception as e:\n",
    "                print(f\"Error processing link {link}: {e}\")\n"
   ]
  },
  {
   "cell_type": "code",
   "execution_count": 7,
   "metadata": {},
   "outputs": [],
   "source": [
    "url = 'https://mobilize-nordic.com/det-faglige-univers/?c=boger#filter'\n",
    "response = requests.get(url, timeout=5)\n",
    "content = BeautifulSoup(response.content, \"html.parser\")\n",
    "\n",
    "cards = content.find_all(\"div\", {\"class\": [\"card\", \"imagecard\"]})\n",
    "\n",
    "with open(\"storage/bøger.txt\", \"a\", encoding=\"utf-8\") as f:\n",
    "    for card in cards:\n",
    "        card_link = card.find(\"a\")\n",
    "        if card_link and \"podcast\" not in card_link[\"href\"] and \"nyhedsbrev\" not in card_link[\"href\"]:\n",
    "            link = \"https://mobilize-nordic.com\" + card_link[\"href\"]\n",
    "            response = requests.get(link, timeout=5)\n",
    "            content = BeautifulSoup(response.content, \"html.parser\")\n",
    "            try:\n",
    "                download_div = content.find(\"div\", {\"class\": \"download\"})\n",
    "                if download_div:\n",
    "                    download_link = \"https://mobilize-nordic.com\" + download_div.find(\"a\")[\"href\"]\n",
    "                    response = requests.get(download_link, timeout=5)\n",
    "                    filename = download_link.split(\"/\")[-1]\n",
    "\n",
    "                    if filename.endswith(\".pdf\"):\n",
    "                        pdf_file = open(\"temp.pdf\", 'wb')\n",
    "                        pdf_file.write(response.content)\n",
    "                        pdf_file.close()\n",
    "\n",
    "                        pdf_file = open(\"temp.pdf\", 'rb')\n",
    "                        pdf_reader = PdfReader(pdf_file)\n",
    "                        for page in pdf_reader.pages:\n",
    "                            page_text = page.extract_text()\n",
    "                            f.write(page_text)\n",
    "\n",
    "            except Exception as e:\n",
    "                print(f\"Error processing link {link}: {e}\")\n"
   ]
  },
  {
   "cell_type": "code",
   "execution_count": 8,
   "metadata": {},
   "outputs": [],
   "source": [
    "#append boger.txt to artikler.txt in a new file all.txt\n",
    "\n",
    "with open(\"storage/artikler.txt\", \"r\", encoding='utf-8') as f:\n",
    "    artikler = f.read()\n",
    "with open(\"storage/bøger.txt\", \"r\", encoding='utf-8') as f:\n",
    "    boger = f.read()\n",
    "with open(\"storage/all.txt\", \"w\", encoding='utf-8') as f:\n",
    "    f.write(artikler)\n",
    "    f.write(boger)"
   ]
  }
 ],
 "metadata": {
  "kernelspec": {
   "display_name": "base",
   "language": "python",
   "name": "python3"
  },
  "language_info": {
   "codemirror_mode": {
    "name": "ipython",
    "version": 3
   },
   "file_extension": ".py",
   "mimetype": "text/x-python",
   "name": "python",
   "nbconvert_exporter": "python",
   "pygments_lexer": "ipython3",
   "version": "3.11.5"
  },
  "orig_nbformat": 4
 },
 "nbformat": 4,
 "nbformat_minor": 2
}
