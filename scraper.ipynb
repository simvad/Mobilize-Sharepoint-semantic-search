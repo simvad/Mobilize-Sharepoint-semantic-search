{
 "cells": [
  {
   "cell_type": "code",
   "execution_count": 37,
   "metadata": {},
   "outputs": [],
   "source": [
    "import requests\n",
    "from bs4 import BeautifulSoup\n",
    "import os"
   ]
  },
  {
   "cell_type": "code",
   "execution_count": 10,
   "metadata": {},
   "outputs": [],
   "source": [
    "url = 'https://mobilize-nordic.com/det-faglige-univers/?c=artikler&s=&v=all#more'\n",
    "response = requests.get(url, timeout=5)\n",
    "content = BeautifulSoup(response.content, \"html.parser\")\n",
    "\n",
    "#Get all divs with class \"card\" or class \"imagecard\" in the div with class \"cards-panel\"\n",
    "cards = content.find_all(\"div\", {\"class\": [\"card\", \"imagecard\"]})"
   ]
  },
  {
   "cell_type": "code",
   "execution_count": 28,
   "metadata": {},
   "outputs": [],
   "source": [
    "titles = []\n",
    "links = []\n",
    "\n",
    "for card in cards:\n",
    "    titles.append(card.find(\"div\", {\"class\": \"text\"}).text.strip())\n",
    "    links.append(\"https://mobilize-nordic.com\" + card.find(\"a\")[\"href\"])"
   ]
  },
  {
   "cell_type": "code",
   "execution_count": 32,
   "metadata": {},
   "outputs": [
    {
     "data": {
      "text/plain": [
       "['https://mobilize-nordic.com/det-faglige-univers/artikler/okosystemer-partnerskaber-og-missionsorientering/',\n",
       " 'https://mobilize-nordic.com/det-faglige-univers/artikler/ekstern-strategisk-profil/',\n",
       " 'https://mobilize-nordic.com/det-faglige-univers/artikler/den-ambitiose-og-robuste-forskningsleder/',\n",
       " 'https://mobilize-nordic.com/det-faglige-univers/artikler/den-ambitiose-offentlige-topleder/',\n",
       " 'https://mobilize-nordic.com/det-faglige-univers/artikler/strategisk-ledelse-i-ledergrupper/',\n",
       " 'https://mobilize-nordic.com/det-faglige-univers/artikler/unges-potentiale-og-mobilizes-graduateforlob/',\n",
       " 'https://mobilize-nordic.com/det-faglige-univers/artikler/ensomhed-og-ledelse-vilkar-eller-mulighed/',\n",
       " 'https://mobilize-nordic.com/det-faglige-univers/artikler/strategier-skal-realiseres/',\n",
       " 'https://mobilize-nordic.com/det-faglige-univers/artikler/den-unge-generation-pa-arbejdsmarkedet/',\n",
       " 'https://mobilize-nordic.com/det-faglige-univers/artikler/strategisk-mobilisering/',\n",
       " 'https://mobilize-nordic.com/det-faglige-univers/artikler/at-handle-strategien-god/',\n",
       " 'https://mobilize-nordic.com/det-faglige-univers/artikler/strategiske-chok/',\n",
       " 'https://mobilize-nordic.com/det-faglige-univers/artikler/strategisk-portefoljeledelse/',\n",
       " 'https://mobilize-nordic.com/det-faglige-univers/artikler/medarbejderejerskab/',\n",
       " 'https://mobilize-nordic.com/det-faglige-univers/artikler/opgaveudvalg-17-stk-4/',\n",
       " 'https://mobilize-nordic.com/det-faglige-univers/artikler/samspilszoner/',\n",
       " 'https://mobilize-nordic.com/det-faglige-univers/artikler/innovation-pa-tvaers-af-velfaerdsorganisationer/',\n",
       " 'https://mobilize-nordic.com/det-faglige-univers/artikler/the-great-resignation/',\n",
       " 'https://mobilize-nordic.com/det-faglige-univers/artikler/kraever-de-vilde-sociale-problemer-nye-organisationsdesign/',\n",
       " 'https://mobilize-nordic.com/det-faglige-univers/artikler/portefoljeledelse/',\n",
       " 'https://mobilize-nordic.com/det-faglige-univers/artikler/det-specialiserede-voksenomrade/',\n",
       " 'https://mobilize-nordic.com/det-faglige-univers/artikler/den-faelles-strategiske-ambition/',\n",
       " 'https://mobilize-nordic.com/det-faglige-univers/artikler/okosystemer-partnerskaber-og-missionsorientering/',\n",
       " 'https://mobilize-nordic.com/det-faglige-univers/artikler/sundhedsklynger-hvordan-lykkes-vi-med-dem/',\n",
       " 'https://mobilize-nordic.com/det-faglige-univers/artikler/kuf/',\n",
       " 'https://mobilize-nordic.com/det-faglige-univers/artikler/strategisk-udvikling-og-brugen-af-fremtidsscenarier/',\n",
       " 'https://mobilize-nordic.com/det-faglige-univers/artikler/den-faglige-klynge/',\n",
       " 'https://mobilize-nordic.com/det-faglige-univers/artikler/nordforsk/',\n",
       " 'https://mobilize-nordic.com/det-faglige-univers/artikler/10-sporgsmal-til-jeres-ambitiose-strategi/',\n",
       " 'https://mobilize-nordic.com/det-faglige-univers/artikler/strategiens-7-p-er/',\n",
       " 'https://mobilize-nordic.com/det-faglige-univers/artikler/faglig-ledelse/',\n",
       " 'https://mobilize-nordic.com/det-faglige-univers/artikler/mellemrums-strategier/',\n",
       " 'https://mobilize-nordic.com/det-faglige-univers/artikler/relationel-skorbug/',\n",
       " 'https://mobilize-nordic.com/det-faglige-univers/artikler/relationel-koordinering/',\n",
       " 'https://mobilize-nordic.com/det-faglige-univers/artikler/psykologisk-tryghed/',\n",
       " 'https://mobilize-nordic.com/det-faglige-univers/artikler/ledelsesalmanakken-2018/',\n",
       " 'https://mobilize-nordic.com/det-faglige-univers/artikler/ledelsesalmanakken-2019/',\n",
       " 'https://mobilize-nordic.com/det-faglige-univers/artikler/ledelsesalmanakken-juli-2019/',\n",
       " 'https://mobilize-nordic.com/det-faglige-univers/artikler/ledelsesalmanakken-august-2019/',\n",
       " 'https://mobilize-nordic.com/det-faglige-univers/artikler/ledelsesalmanakken-september-2019/',\n",
       " 'https://mobilize-nordic.com/det-faglige-univers/artikler/ledelsesalmanakken-oktober-2019/',\n",
       " 'https://mobilize-nordic.com/det-faglige-univers/artikler/ledelsesalmanakken-november-2019/',\n",
       " 'https://mobilize-nordic.com/det-faglige-univers/artikler/ledelesesalmanakken-juni-2019/',\n",
       " 'https://mobilize-nordic.com/det-faglige-univers/artikler/ledelsesalmanakken-december-2019/',\n",
       " 'https://mobilize-nordic.com/det-faglige-univers/artikler/ledelsesalmanakken-maj-2019/',\n",
       " 'https://mobilize-nordic.com/det-faglige-univers/artikler/ledelsesalmanakken-marts-2019/',\n",
       " 'https://mobilize-nordic.com/det-faglige-univers/artikler/ledelsesalmanakken-februar-2019/',\n",
       " 'https://mobilize-nordic.com/det-faglige-univers/artikler/ledelsesalmanakken-januar-2019/',\n",
       " 'https://mobilize-nordic.com/det-faglige-univers/artikler/ledelsesalmanakken-april-2020/']"
      ]
     },
     "execution_count": 32,
     "metadata": {},
     "output_type": "execute_result"
    }
   ],
   "source": [
    "#remove all elements in links containing the word podcast\n",
    "links = [link for link in links if \"podcast\" and \"nyhedsbrev\" not in link]\n",
    "links"
   ]
  },
  {
   "cell_type": "code",
   "execution_count": 35,
   "metadata": {},
   "outputs": [],
   "source": [
    "#Go to all links in links and get the link from div with class \"download\" \n",
    "# then Download all files in download_links to the folder \"artkler\"\n",
    "#Be aware that some links don't have a download link, so you need to handle that\n",
    "\n",
    "download_links = []\n",
    "\n",
    "for link in links:\n",
    "    response = requests.get(link, timeout=5)\n",
    "    content = BeautifulSoup(response.content, \"html.parser\")\n",
    "    try:\n",
    "        download_links.append(\"https://mobilize-nordic.com\" + content.find(\"div\", {\"class\": \"download\"}).find(\"a\")[\"href\"])\n",
    "    except:\n",
    "        download_links.append(None)\n",
    "\n"
   ]
  },
  {
   "cell_type": "code",
   "execution_count": 38,
   "metadata": {},
   "outputs": [],
   "source": [
    "# download all files in download_links to the folder \"artikler\"\n",
    "for link in download_links:\n",
    "    if link:\n",
    "        response = requests.get(link, timeout=5)\n",
    "        filename = link.split(\"/\")[-1]\n",
    "        with open(os.path.join(\"artikler\", filename), \"wb\") as f:\n",
    "            f.write(response.content)"
   ]
  }
 ],
 "metadata": {
  "kernelspec": {
   "display_name": "base",
   "language": "python",
   "name": "python3"
  },
  "language_info": {
   "codemirror_mode": {
    "name": "ipython",
    "version": 3
   },
   "file_extension": ".py",
   "mimetype": "text/x-python",
   "name": "python",
   "nbconvert_exporter": "python",
   "pygments_lexer": "ipython3",
   "version": "3.11.5"
  },
  "orig_nbformat": 4
 },
 "nbformat": 4,
 "nbformat_minor": 2
}
